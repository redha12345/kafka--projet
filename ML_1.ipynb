{
 "cells": [
  {
   "cell_type": "code",
   "execution_count": 1,
   "id": "1cfaf55f",
   "metadata": {},
   "outputs": [
    {
     "name": "stderr",
     "output_type": "stream",
     "text": [
      "23/04/05 22:24:54 WARN NativeCodeLoader: Unable to load native-hadoop library for your platform... using builtin-java classes where applicable\n",
      "Using Spark's default log4j profile: org/apache/spark/log4j-defaults.properties\n",
      "Setting default log level to \"WARN\".\n",
      "To adjust logging level use sc.setLogLevel(newLevel). For SparkR, use setLogLevel(newLevel).\n",
      "[Stage 2:>                                                          (0 + 1) / 1]\r"
     ]
    },
    {
     "name": "stdout",
     "output_type": "stream",
     "text": [
      "+--------------------+---------+\n",
      "|      cleaned_tweets|sentiment|\n",
      "+--------------------+---------+\n",
      "|video offic mind ...|        0|\n",
      "|price lumber lb f...|        0|\n",
      "|say american drea...|       -1|\n",
      "|barri silbert ext...|        1|\n",
      "|satellit avoid at...|       -1|\n",
      "|david butler favo...|        0|\n",
      "|miss convo one fa...|        0|\n",
      "|u intellig docume...|        0|\n",
      "|senat want emerg ...|        1|\n",
      "|hedg fund manag m...|        0|\n",
      "|u propos expedit ...|       -1|\n",
      "|roger feder uniql...|        0|\n",
      "|bond trader ahead...|        0|\n",
      "|alcoa cut adjust ...|        0|\n",
      "|custom urg boycot...|       -1|\n",
      "|gap tighten race ...|        0|\n",
      "|presid trump endo...|        0|\n",
      "|white hous strugg...|        0|\n",
      "|laker guard hart ...|        0|\n",
      "|two northern whit...|        0|\n",
      "+--------------------+---------+\n",
      "only showing top 20 rows\n",
      "\n"
     ]
    },
    {
     "name": "stderr",
     "output_type": "stream",
     "text": [
      "                                                                                \r"
     ]
    }
   ],
   "source": [
    "from pyspark.sql import SparkSession\n",
    "\n",
    "\n",
    "spark = SparkSession.builder \\\n",
    "    .master(\"spark://spark-master:7077\") \\\n",
    "    .appName(\"TPML\") \\\n",
    "    .config(\"spark.some.config.option\",\"some-value\") \\\n",
    "    .getOrCreate()\n",
    "\n",
    "df = spark.read.csv(\"tweet_sentiment.csv\", header=True, inferSchema=True)\n",
    "df.show()\n"
   ]
  },
  {
   "cell_type": "code",
   "execution_count": null,
   "id": "f8b600e1",
   "metadata": {},
   "outputs": [],
   "source": []
  },
  {
   "cell_type": "code",
   "execution_count": 2,
   "id": "7591e6d6",
   "metadata": {},
   "outputs": [],
   "source": [
    "from pyspark.sql.functions import col, lower, count, regexp_replace, udf\n",
    "from pyspark.sql.types import StringType, ArrayType\n",
    "import matplotlib.pyplot as plt\n",
    "import seaborn as sns\n",
    "import string\n"
   ]
  },
  {
   "cell_type": "code",
   "execution_count": 3,
   "id": "020ca79c",
   "metadata": {},
   "outputs": [
    {
     "name": "stderr",
     "output_type": "stream",
     "text": [
      "                                                                                \r"
     ]
    },
    {
     "name": "stdout",
     "output_type": "stream",
     "text": [
      "Row count: 28440\n",
      "Col count: 2\n"
     ]
    }
   ],
   "source": [
    "#show data size\n",
    "print(\"Row count:\", df.count())\n",
    "print(\"Col count:\", len(df.columns))\n"
   ]
  },
  {
   "cell_type": "code",
   "execution_count": 4,
   "id": "afbae667",
   "metadata": {},
   "outputs": [],
   "source": [
    "# Supprimer les enregistrements en double\n",
    "df = df.dropDuplicates()\n",
    "# Supprimer les enregistrements avec des valeurs manquantes\n",
    "df = df.dropna()"
   ]
  },
  {
   "cell_type": "code",
   "execution_count": 5,
   "id": "b357220a",
   "metadata": {},
   "outputs": [
    {
     "name": "stderr",
     "output_type": "stream",
     "text": [
      "[Stage 6:======================================================>(199 + 1) / 200]\r"
     ]
    },
    {
     "name": "stdout",
     "output_type": "stream",
     "text": [
      "Row count: 21994\n",
      "Col count: 2\n"
     ]
    },
    {
     "name": "stderr",
     "output_type": "stream",
     "text": [
      "                                                                                \r"
     ]
    }
   ],
   "source": [
    "#show data size\n",
    "print(\"Row count:\", df.count())\n",
    "print(\"Col count:\", len(df.columns))"
   ]
  },
  {
   "cell_type": "code",
   "execution_count": 6,
   "id": "6f6d2609",
   "metadata": {},
   "outputs": [],
   "source": [
    "df = df.filter(df.sentiment != 0)"
   ]
  },
  {
   "cell_type": "code",
   "execution_count": 7,
   "id": "4a1fbb3e",
   "metadata": {},
   "outputs": [
    {
     "name": "stderr",
     "output_type": "stream",
     "text": [
      "                                                                                \r"
     ]
    },
    {
     "name": "stdout",
     "output_type": "stream",
     "text": [
      "+---------+-----+\n",
      "|sentiment|count|\n",
      "+---------+-----+\n",
      "|       -1| 2114|\n",
      "|        1| 6752|\n",
      "+---------+-----+\n",
      "\n"
     ]
    },
    {
     "name": "stderr",
     "output_type": "stream",
     "text": [
      "                                                                                \r"
     ]
    }
   ],
   "source": [
    "df.groupBy(\"sentiment\").count().show()"
   ]
  },
  {
   "cell_type": "code",
   "execution_count": 8,
   "id": "2ddc0a93",
   "metadata": {},
   "outputs": [],
   "source": [
    "from pyspark.sql.functions import when\n",
    "\n",
    "df = df.withColumn(\"sentiment\", when(df.sentiment == -1, 0).otherwise(df.sentiment))\n"
   ]
  },
  {
   "cell_type": "code",
   "execution_count": 9,
   "id": "09bb3050",
   "metadata": {},
   "outputs": [
    {
     "name": "stderr",
     "output_type": "stream",
     "text": [
      "                                                                                \r"
     ]
    },
    {
     "data": {
      "text/plain": [
       "<AxesSubplot: xlabel='sentiment', ylabel='count'>"
      ]
     },
     "execution_count": 9,
     "metadata": {},
     "output_type": "execute_result"
    },
    {
     "data": {
      "image/png": "[encoded data removed]",
      "text/plain": [
       "<Figure size 1000x400 with 1 Axes>"
      ]
     },
     "metadata": {},
     "output_type": "display_data"
    }
   ],
   "source": [
    "import matplotlib.pyplot as plt\n",
    "import seaborn as sns\n",
    "# Tracer un graphique à barres de la colonne \"sentiment\"\n",
    "sentiment_counts = df.groupBy(\"sentiment\").count().toPandas()\n",
    "plt.figure(figsize=(10,4))\n",
    "sns.barplot(data=sentiment_counts, x=\"sentiment\", y=\"count\")"
   ]
  },
  {
   "cell_type": "code",
   "execution_count": 10,
   "id": "f3c623f2",
   "metadata": {},
   "outputs": [],
   "source": [
    "# Convertir les tweets en minuscules\n",
    "df = df.withColumn(\"cleaned_tweets\", lower(col(\"cleaned_tweets\")))"
   ]
  },
  {
   "cell_type": "code",
   "execution_count": 11,
   "id": "fc08b883",
   "metadata": {},
   "outputs": [
    {
     "data": {
      "text/plain": [
       "'!\"#$%&\\'()*+,-./:;<=>?@[\\\\]^_`{|}~'"
      ]
     },
     "execution_count": 11,
     "metadata": {},
     "output_type": "execute_result"
    }
   ],
   "source": [
    "string.punctuation"
   ]
  },
  {
   "cell_type": "code",
   "execution_count": 12,
   "id": "5df150c7",
   "metadata": {},
   "outputs": [
    {
     "name": "stderr",
     "output_type": "stream",
     "text": [
      "[Stage 27:>                                                         (0 + 1) / 1]\r"
     ]
    },
    {
     "name": "stdout",
     "output_type": "stream",
     "text": [
      "+-------------------------------------------------------------------------------------------------+\n",
      "|cleaned_tweets1                                                                                  |\n",
      "+-------------------------------------------------------------------------------------------------+\n",
      "|qorvo plan debt offer qrvo                                                                       |\n",
      "|expeditor intl wash inc expd valuat rose cwm llc cut hold million                                |\n",
      "|bwa ten sea fli one arc low                                                                      |\n",
      "|intern paper ip cut hold zack invest research                                                    |\n",
      "|short sale volum short interest xli bac nfx trq bbd                                              |\n",
      "|haverford trust compani boost hold air product amp chemic inc apd million                        |\n",
      "|intu max pain matur maxpain option                                                               |\n",
      "|short sale vol short interest fxi cop disca de vea                                               |\n",
      "|fidel natl inform sv fi market valuat rose boothbay fund manag llc lower posit                   |\n",
      "|recent eog technic alert cup handl plu alert                                                     |\n",
      "|allegion plc all expect announc earn per share                                                   |\n",
      "|rt stock pull back logic support trip btu kmg tpic ssw sri mcft goo mov vra club ceco livn arql g|\n",
      "|zack analyst expect american tower corp amt post earn per share                                  |\n",
      "|hartford financi servic group inc hig forecast post q earn per share                             |\n",
      "|trend revers alert eog eog resourc tradeidea via free trade room                                 |\n",
      "|get access premium paid group fraction price join us pivx                                        |\n",
      "|ostk noth long via size huya iq sfix roku bzun se vrtx hear zto blue plate special               |\n",
      "|binanc million user join us today regist bonu gcr sy etn                                         |\n",
      "|million dollar trade bitmex join us regist bonu adx                                              |\n",
      "|dee yep attempt late wan                                                                         |\n",
      "+-------------------------------------------------------------------------------------------------+\n",
      "only showing top 20 rows\n",
      "\n"
     ]
    },
    {
     "name": "stderr",
     "output_type": "stream",
     "text": [
      "                                                                                \r"
     ]
    }
   ],
   "source": [
    "# Supprimer la ponctuation des tweets\n",
    "def remove_punch(txt):\n",
    "    txt_punch_removed = [char for char in txt if char not in string.punctuation ]\n",
    "    return ''.join(txt_punch_removed)\n",
    "\n",
    "remove_punch_udf = udf(remove_punch, StringType())\n",
    "\n",
    "df = df.withColumn(\"cleaned_tweets1\", remove_punch_udf(col(\"cleaned_tweets\")))\n",
    "df.select(col(\"cleaned_tweets1\")).show(truncate=False)"
   ]
  },
  {
   "cell_type": "code",
   "execution_count": 13,
   "id": "fdd9e380",
   "metadata": {},
   "outputs": [],
   "source": [
    "from pyspark.ml.feature import Tokenizer\n",
    "tokenizer0 = Tokenizer(inputCol=\"cleaned_tweets1\", outputCol=\"token_tweet\")\n",
    "df = tokenizer0.transform(df)"
   ]
  },
  {
   "cell_type": "code",
   "execution_count": 14,
   "id": "69021f5c",
   "metadata": {},
   "outputs": [
    {
     "name": "stderr",
     "output_type": "stream",
     "text": [
      "[Stage 29:>                                                         (0 + 1) / 1]\r"
     ]
    },
    {
     "name": "stdout",
     "output_type": "stream",
     "text": [
      "+-----------------------------------------------------------------------------------------------------------------------+\n",
      "|token_tweet                                                                                                            |\n",
      "+-----------------------------------------------------------------------------------------------------------------------+\n",
      "|[qorvo, plan, debt, offer, qrvo]                                                                                       |\n",
      "|[expeditor, intl, wash, inc, expd, valuat, rose, cwm, llc, cut, hold, million]                                         |\n",
      "|[bwa, ten, sea, fli, one, arc, low]                                                                                    |\n",
      "|[intern, paper, ip, cut, hold, zack, invest, research]                                                                 |\n",
      "|[short, sale, volum, short, interest, xli, bac, nfx, trq, bbd]                                                         |\n",
      "|[haverford, trust, compani, boost, hold, air, product, amp, chemic, inc, apd, million]                                 |\n",
      "|[intu, max, pain, matur, maxpain, option]                                                                              |\n",
      "|[short, sale, vol, short, interest, fxi, cop, disca, de, vea]                                                          |\n",
      "|[fidel, natl, inform, sv, fi, market, valuat, rose, boothbay, fund, manag, llc, lower, posit]                          |\n",
      "|[recent, eog, technic, alert, cup, handl, plu, alert]                                                                  |\n",
      "|[allegion, plc, all, expect, announc, earn, per, share]                                                                |\n",
      "|[rt, stock, pull, back, logic, support, trip, btu, kmg, tpic, ssw, sri, mcft, goo, mov, vra, club, ceco, livn, arql, g]|\n",
      "|[zack, analyst, expect, american, tower, corp, amt, post, earn, per, share]                                            |\n",
      "|[hartford, financi, servic, group, inc, hig, forecast, post, q, earn, per, share]                                      |\n",
      "|[trend, revers, alert, eog, eog, resourc, tradeidea, via, free, trade, room]                                           |\n",
      "|[get, access, premium, paid, group, fraction, price, join, us, pivx]                                                   |\n",
      "|[ostk, noth, long, via, size, huya, iq, sfix, roku, bzun, se, vrtx, hear, zto, blue, plate, special]                   |\n",
      "|[binanc, million, user, join, us, today, regist, bonu, gcr, sy, etn]                                                   |\n",
      "|[million, dollar, trade, bitmex, join, us, regist, bonu, adx]                                                          |\n",
      "|[dee, yep, attempt, late, wan]                                                                                         |\n",
      "+-----------------------------------------------------------------------------------------------------------------------+\n",
      "only showing top 20 rows\n",
      "\n"
     ]
    },
    {
     "name": "stderr",
     "output_type": "stream",
     "text": [
      "                                                                                \r"
     ]
    }
   ],
   "source": [
    "df.select(col(\"token_tweet\")).show(truncate=False)"
   ]
  },
  {
   "cell_type": "code",
   "execution_count": 15,
   "id": "0809e4d6",
   "metadata": {},
   "outputs": [],
   "source": [
    "from pyspark.ml.feature import StopWordsRemover\n",
    "remover = StopWordsRemover(inputCol=\"token_tweet\", outputCol=\"mots_propres\")\n",
    "df = remover.transform(df)\n"
   ]
  },
  {
   "cell_type": "code",
   "execution_count": 16,
   "id": "b37ddfe9",
   "metadata": {},
   "outputs": [
    {
     "name": "stdout",
     "output_type": "stream",
     "text": [
      "+-----------------------------------------------------------------------------------------------------------------------+\n",
      "|mots_propres                                                                                                           |\n",
      "+-----------------------------------------------------------------------------------------------------------------------+\n",
      "|[qorvo, plan, debt, offer, qrvo]                                                                                       |\n",
      "|[expeditor, intl, wash, inc, expd, valuat, rose, cwm, llc, cut, hold, million]                                         |\n",
      "|[bwa, ten, sea, fli, one, arc, low]                                                                                    |\n",
      "|[intern, paper, ip, cut, hold, zack, invest, research]                                                                 |\n",
      "|[short, sale, volum, short, interest, xli, bac, nfx, trq, bbd]                                                         |\n",
      "|[haverford, trust, compani, boost, hold, air, product, amp, chemic, inc, apd, million]                                 |\n",
      "|[intu, max, pain, matur, maxpain, option]                                                                              |\n",
      "|[short, sale, vol, short, interest, fxi, cop, disca, de, vea]                                                          |\n",
      "|[fidel, natl, inform, sv, fi, market, valuat, rose, boothbay, fund, manag, llc, lower, posit]                          |\n",
      "|[recent, eog, technic, alert, cup, handl, plu, alert]                                                                  |\n",
      "|[allegion, plc, expect, announc, earn, per, share]                                                                     |\n",
      "|[rt, stock, pull, back, logic, support, trip, btu, kmg, tpic, ssw, sri, mcft, goo, mov, vra, club, ceco, livn, arql, g]|\n",
      "|[zack, analyst, expect, american, tower, corp, amt, post, earn, per, share]                                            |\n",
      "|[hartford, financi, servic, group, inc, hig, forecast, post, q, earn, per, share]                                      |\n",
      "|[trend, revers, alert, eog, eog, resourc, tradeidea, via, free, trade, room]                                           |\n",
      "|[get, access, premium, paid, group, fraction, price, join, us, pivx]                                                   |\n",
      "|[ostk, noth, long, via, size, huya, iq, sfix, roku, bzun, se, vrtx, hear, zto, blue, plate, special]                   |\n",
      "|[binanc, million, user, join, us, today, regist, bonu, gcr, sy, etn]                                                   |\n",
      "|[million, dollar, trade, bitmex, join, us, regist, bonu, adx]                                                          |\n",
      "|[dee, yep, attempt, late, wan]                                                                                         |\n",
      "+-----------------------------------------------------------------------------------------------------------------------+\n",
      "only showing top 20 rows\n",
      "\n"
     ]
    }
   ],
   "source": [
    "df.select(col(\"mots_propres\")).show(truncate=False)"
   ]
  },
  {
   "cell_type": "code",
   "execution_count": 17,
   "id": "781268f1",
   "metadata": {},
   "outputs": [
    {
     "name": "stdout",
     "output_type": "stream",
     "text": [
      "+-------------------------------------------------------------------------------------------------------------------------------------------------------------------------------------------------------------------+\n",
      "|ngram_tweet                                                                                                                                                                                                        |\n",
      "+-------------------------------------------------------------------------------------------------------------------------------------------------------------------------------------------------------------------+\n",
      "|[qorvo plan, plan debt, debt offer, offer qrvo]                                                                                                                                                                    |\n",
      "|[expeditor intl, intl wash, wash inc, inc expd, expd valuat, valuat rose, rose cwm, cwm llc, llc cut, cut hold, hold million]                                                                                      |\n",
      "|[bwa ten, ten sea, sea fli, fli one, one arc, arc low]                                                                                                                                                             |\n",
      "|[intern paper, paper ip, ip cut, cut hold, hold zack, zack invest, invest research]                                                                                                                                |\n",
      "|[short sale, sale volum, volum short, short interest, interest xli, xli bac, bac nfx, nfx trq, trq bbd]                                                                                                            |\n",
      "|[haverford trust, trust compani, compani boost, boost hold, hold air, air product, product amp, amp chemic, chemic inc, inc apd, apd million]                                                                      |\n",
      "|[intu max, max pain, pain matur, matur maxpain, maxpain option]                                                                                                                                                    |\n",
      "|[short sale, sale vol, vol short, short interest, interest fxi, fxi cop, cop disca, disca de, de vea]                                                                                                              |\n",
      "|[fidel natl, natl inform, inform sv, sv fi, fi market, market valuat, valuat rose, rose boothbay, boothbay fund, fund manag, manag llc, llc lower, lower posit]                                                    |\n",
      "|[recent eog, eog technic, technic alert, alert cup, cup handl, handl plu, plu alert]                                                                                                                               |\n",
      "|[allegion plc, plc all, all expect, expect announc, announc earn, earn per, per share]                                                                                                                             |\n",
      "|[rt stock, stock pull, pull back, back logic, logic support, support trip, trip btu, btu kmg, kmg tpic, tpic ssw, ssw sri, sri mcft, mcft goo, goo mov, mov vra, vra club, club ceco, ceco livn, livn arql, arql g]|\n",
      "|[zack analyst, analyst expect, expect american, american tower, tower corp, corp amt, amt post, post earn, earn per, per share]                                                                                    |\n",
      "|[hartford financi, financi servic, servic group, group inc, inc hig, hig forecast, forecast post, post q, q earn, earn per, per share]                                                                             |\n",
      "|[trend revers, revers alert, alert eog, eog eog, eog resourc, resourc tradeidea, tradeidea via, via free, free trade, trade room]                                                                                  |\n",
      "|[get access, access premium, premium paid, paid group, group fraction, fraction price, price join, join us, us pivx]                                                                                               |\n",
      "|[ostk noth, noth long, long via, via size, size huya, huya iq, iq sfix, sfix roku, roku bzun, bzun se, se vrtx, vrtx hear, hear zto, zto blue, blue plate, plate special]                                          |\n",
      "|[binanc million, million user, user join, join us, us today, today regist, regist bonu, bonu gcr, gcr sy, sy etn]                                                                                                  |\n",
      "|[million dollar, dollar trade, trade bitmex, bitmex join, join us, us regist, regist bonu, bonu adx]                                                                                                               |\n",
      "|[dee yep, yep attempt, attempt late, late wan]                                                                                                                                                                     |\n",
      "+-------------------------------------------------------------------------------------------------------------------------------------------------------------------------------------------------------------------+\n",
      "only showing top 20 rows\n",
      "\n"
     ]
    }
   ],
   "source": [
    "from pyspark.ml.feature import NGram\n",
    "# Utilisation de la fonction NGram pour créer des n-grams de taille 2 à partir de la colonne \"tokens\"\n",
    "ngram = NGram(n=2, inputCol=\"token_tweet\", outputCol=\"ngram_tweet\")\n",
    "df = ngram.transform(df)\n",
    "df.select(col(\"ngram_tweet\")).show(truncate=False)"
   ]
  },
  {
   "cell_type": "code",
   "execution_count": 18,
   "id": "6e526df7",
   "metadata": {},
   "outputs": [
    {
     "name": "stdout",
     "output_type": "stream",
     "text": [
      "+--------------------------------------------------------------------------------------------------------------------------------------------------------------------------+\n",
      "|hashing_tweet                                                                                                                                                             |\n",
      "+--------------------------------------------------------------------------------------------------------------------------------------------------------------------------+\n",
      "|(1000,[36,240,316,848],[1.0,1.0,1.0,1.0])                                                                                                                                 |\n",
      "|(1000,[5,238,295,504,545,609,705,758,824,831,971],[1.0,1.0,1.0,1.0,1.0,1.0,1.0,1.0,1.0,1.0,1.0])                                                                          |\n",
      "|(1000,[106,120,366,429,577,651],[1.0,1.0,1.0,1.0,1.0,1.0])                                                                                                                |\n",
      "|(1000,[500,779,784,824,927,946,951],[1.0,1.0,1.0,1.0,1.0,1.0,1.0])                                                                                                        |\n",
      "|(1000,[52,171,337,458,518,658,726,748,750],[1.0,1.0,1.0,1.0,1.0,1.0,1.0,1.0,1.0])                                                                                         |\n",
      "|(1000,[111,215,254,275,403,514,544,546,581,777,977],[1.0,1.0,1.0,1.0,1.0,1.0,1.0,1.0,1.0,1.0,1.0])                                                                        |\n",
      "|(1000,[162,687,819,918,941],[1.0,1.0,1.0,1.0,1.0])                                                                                                                        |\n",
      "|(1000,[38,52,152,196,347,534,703,748,851],[1.0,1.0,1.0,1.0,1.0,1.0,1.0,1.0,1.0])                                                                                          |\n",
      "|(1000,[9,90,238,266,399,404,411,681,696,783,962,985],[1.0,1.0,2.0,1.0,1.0,1.0,1.0,1.0,1.0,1.0,1.0,1.0])                                                                   |\n",
      "|(1000,[154,456,674,746,861,903,961],[1.0,1.0,1.0,1.0,1.0,1.0,1.0])                                                                                                        |\n",
      "|(1000,[48,274,523,530,757,972,998],[1.0,1.0,1.0,1.0,1.0,1.0,1.0])                                                                                                         |\n",
      "|(1000,[134,164,287,339,348,362,405,449,457,492,500,573,614,643,728,831,836,840,935,946],[1.0,1.0,1.0,1.0,1.0,1.0,1.0,1.0,1.0,1.0,1.0,1.0,1.0,1.0,1.0,1.0,1.0,1.0,1.0,1.0])|\n",
      "|(1000,[48,97,138,187,297,300,523,771,793,911],[1.0,1.0,1.0,1.0,1.0,1.0,1.0,1.0,1.0,1.0])                                                                                  |\n",
      "|(1000,[48,104,154,223,461,486,522,523,526,660,688],[1.0,1.0,1.0,1.0,1.0,1.0,1.0,1.0,1.0,1.0,1.0])                                                                         |\n",
      "|(1000,[268,274,378,517,731,753,777,824,881,884],[1.0,1.0,1.0,1.0,1.0,1.0,1.0,1.0,1.0,1.0])                                                                                |\n",
      "|(1000,[104,133,293,310,316,639,741,743],[1.0,1.0,1.0,1.0,2.0,1.0,1.0,1.0])                                                                                                |\n",
      "|(1000,[87,140,216,239,270,291,334,416,477,506,604,775,788,796,865,955],[1.0,1.0,1.0,1.0,1.0,1.0,1.0,1.0,1.0,1.0,1.0,1.0,1.0,1.0,1.0,1.0])                                 |\n",
      "|(1000,[114,337,546,549,639,652,685,742,934,973],[1.0,1.0,1.0,1.0,1.0,1.0,1.0,1.0,1.0,1.0])                                                                                |\n",
      "|(1000,[2,90,120,375,530,546,639,685],[1.0,1.0,1.0,1.0,1.0,1.0,1.0,1.0])                                                                                                   |\n",
      "|(1000,[104,145,186,528],[1.0,1.0,1.0,1.0])                                                                                                                                |\n",
      "+--------------------------------------------------------------------------------------------------------------------------------------------------------------------------+\n",
      "only showing top 20 rows\n",
      "\n"
     ]
    }
   ],
   "source": [
    "from pyspark.ml.feature import HashingTF\n",
    "# représenter des données textuelles sous forme numérique afin utilisée comme entrée pour les modèles de classification et d'apprentissage automatique.\n",
    "hashingTF = HashingTF(numFeatures=1000, inputCol=\"ngram_tweet\", outputCol=\"hashing_tweet\")\n",
    "df = hashingTF.transform(df)\n",
    "df.select(col(\"hashing_tweet\")).show(truncate=False)"
   ]
  },
  {
   "cell_type": "code",
   "execution_count": 20,
   "id": "51a61d90",
   "metadata": {},
   "outputs": [
    {
     "name": "stderr",
     "output_type": "stream",
     "text": [
      "                                                                                \r"
     ]
    },
    {
     "name": "stdout",
     "output_type": "stream",
     "text": [
      "+--------------------------------------------------------------------------------------------------------------------------------------------------------------------------------------------------------------------------------------------------------------------------------------------------------------------------------------------------------------------------------------------------------------------------------------------------------------------+\n",
      "|idf_tweet                                                                                                                                                                                                                                                                                                                                                                                                                                                           |\n",
      "+--------------------------------------------------------------------------------------------------------------------------------------------------------------------------------------------------------------------------------------------------------------------------------------------------------------------------------------------------------------------------------------------------------------------------------------------------------------------+\n",
      "|(1000,[36,240,316,848],[4.885399179989041,4.3279178645822505,3.5847602634476443,4.3279178645822505])                                                                                                                                                                                                                                                                                                                                                                |\n",
      "|(1000,[5,238,295,504,545,609,705,758,824,831,971],[4.624183680725423,4.319407174914343,4.885399179989041,4.27790744400759,4.0728119625650825,4.671251191583409,4.635744503126499,4.8134256803639515,3.9902253715558085,4.6956426447075685,4.086145493434548])                                                                                                                                                                                                       |\n",
      "|(1000,[106,120,366,429,577,651],[4.962957414334916,4.380561598067673,4.720643946912985,5.13884808079858,4.635744503126499,5.012554355474288])                                                                                                                                                                                                                                                                                                                       |\n",
      "|(1000,[500,779,784,824,927,946,951],[4.759358459093676,3.7768858203382196,4.827411922338691,3.9902253715558085,4.870584094203901,4.23806153546039,3.8325964273522253])                                                                                                                                                                                                                                                                                              |\n",
      "|(1000,[52,171,337,458,518,658,726,748,750],[2.91630569547807,3.4099191903629396,4.671251191583409,4.962957414334916,4.455362811150371,4.635744503126499,3.3406988134717537,3.1162821875107456,4.683372552115754])                                                                                                                                                                                                                                                   |\n",
      "|(1000,[111,215,254,275,403,514,544,546,581,777,977],[4.708065164706126,4.683372552115754,4.380561598067673,4.799632358231616,4.612754984901801,4.64744054288969,4.465118986095736,4.1272471691201,4.42665270526794,3.9484282428773474,4.06621127853373])                                                                                                                                                                                                            |\n",
      "|(1000,[162,687,819,918,941],[4.900437057353582,3.420210876399487,3.592923574086805,3.5028431409797576,3.0788246249758453])                                                                                                                                                                                                                                                                                                                                          |\n",
      "|(1000,[38,52,152,196,347,534,703,748,851],[4.294301253783265,2.91630569547807,4.505124320709435,4.7462863775263235,4.184817020941578,4.995747237157906,4.230279395018335,3.1162821875107456,4.505124320709435])                                                                                                                                                                                                                                                     |\n",
      "|(1000,[9,90,238,266,399,404,411,681,696,783,962,985],[4.91570452948437,3.891594768114181,8.638814349828685,4.484921613391916,4.612754984901801,4.302600056597961,4.601455429647867,4.91570452948437,4.10648517767167,4.155617866249315,5.0470405315454565,4.23806153546039])                                                                                                                                                                                        |\n",
      "|(1000,[154,456,674,746,861,903,961],[4.371592928084913,4.199742671158253,3.891594768114181,3.4517371300462614,4.7860267061758375,4.8134256803639515,5.13884808079858])                                                                                                                                                                                                                                                                                              |\n",
      "|(1000,[48,274,523,530,757,972,998],[2.901827676297417,4.362703980667666,2.8362629878045342,4.302600056597961,3.673991397175587,4.494971949245417,4.294301253783265])                                                                                                                                                                                                                                                                                                |\n",
      "|(1000,[134,164,287,339,348,362,405,449,457,492,500,573,614,643,728,831,836,840,935,946],[4.253809892428529,4.557492306226751,4.720643946912985,3.9963415985732444,5.0470405315454565,4.885399179989041,4.515380820876624,4.079456505283751,5.012554355474288,4.946957072988474,4.759358459093676,5.0827586141475365,4.612754984901801,4.733382972690415,4.371592928084913,4.6956426447075685,4.380561598067673,4.590282129049742,4.64744054288969,4.23806153546039])|\n",
      "|(1000,[48,97,138,187,297,300,523,771,793,911],[2.901827676297417,3.7917744328319705,4.7860267061758375,4.417262964918101,4.841596557330648,4.398743917150863,2.8362629878045342,5.012554355474288,4.8134256803639515,3.714813391695842])                                                                                                                                                                                                                            |\n",
      "|(1000,[48,104,154,223,461,486,522,523,526,660,688],[2.901827676297417,3.564638860248223,4.371592928084913,3.9781040110234636,4.579232292863157,3.936800204882228,4.546797017110003,2.8362629878045342,4.525743607912171,4.536214907779466,4.445700900238634])                                                                                                                                                                                                       |\n",
      "|(1000,[268,274,378,517,731,753,777,824,881,884],[4.214894476178856,4.362703980667666,4.417262964918101,4.7860267061758375,4.772603685843697,4.612754984901801,3.9484282428773474,3.9902253715558085,3.8643451256668055,3.9781040110234636])                                                                                                                                                                                                                         |\n",
      "|(1000,[104,133,293,310,316,639,741,743],[3.564638860248223,3.4340999885601544,4.612754984901801,3.564638860248223,7.169520526895289,2.869501629280268,3.487972978500306,3.3963596605773074])                                                                                                                                                                                                                                                                        |\n",
      "|(1000,[87,140,216,239,270,291,334,416,477,506,604,775,788,796,865,955],[5.4265301532503605,4.601455429647867,4.8134256803639515,4.855985294782748,4.885399179989041,4.759358459093676,4.546797017110003,4.885399179989041,4.7462863775263235,4.624183680725423,4.021187597159775,4.7860267061758375,4.671251191583409,4.64744054288969,4.302600056597961,4.624183680725423])                                                                                        |\n",
      "|(1000,[114,337,546,549,639,652,685,742,934,973],[3.8483447843203646,4.671251191583409,4.1272471691201,4.407960572255787,2.869501629280268,4.214894476178856,3.403116443040187,4.720643946912985,4.601455429647867,3.781824101978802])                                                                                                                                                                                                                               |\n",
      "|(1000,[2,90,120,375,530,546,639,685],[5.13884808079858,3.891594768114181,4.380561598067673,5.101107752815732,4.302600056597961,4.1272471691201,2.869501629280268,3.403116443040187])                                                                                                                                                                                                                                                                                |\n",
      "|(1000,[104,145,186,528],[3.564638860248223,4.708065164706126,4.465118986095736,5.0827586141475365])                                                                                                                                                                                                                                                                                                                                                                 |\n",
      "+--------------------------------------------------------------------------------------------------------------------------------------------------------------------------------------------------------------------------------------------------------------------------------------------------------------------------------------------------------------------------------------------------------------------------------------------------------------------+\n",
      "only showing top 20 rows\n",
      "\n"
     ]
    }
   ],
   "source": [
    "from pyspark.ml.feature import IDF\n",
    "#évaluer l'importance d'un terme dans un documents afin d'attribuer un poids plus élevé aux termes qui apparaissent rarement dans un corpus et un poids plus faible aux termes qui apparaissent fréquemment.\n",
    "idf2 = IDF(inputCol=\"hashing_tweet\", outputCol=\"idf_tweet\")\n",
    "idf_model = idf2.fit(df)\n",
    "df = idf_model.transform(df)\n",
    "df.select(col(\"idf_tweet\")).show(truncate=False)"
   ]
  },
  {
   "cell_type": "code",
   "execution_count": null,
   "id": "e14bd41e",
   "metadata": {},
   "outputs": [],
   "source": []
  },
  {
   "cell_type": "code",
   "execution_count": 21,
   "id": "86e221c7",
   "metadata": {},
   "outputs": [
    {
     "name": "stdout",
     "output_type": "stream",
     "text": [
      "+--------------------+---------+\n",
      "|      cleaned_tweets|sentiment|\n",
      "+--------------------+---------+\n",
      "|video offic mind ...|        0|\n",
      "|price lumber lb f...|        0|\n",
      "|say american drea...|       -1|\n",
      "|barri silbert ext...|        1|\n",
      "|satellit avoid at...|       -1|\n",
      "|david butler favo...|        0|\n",
      "|miss convo one fa...|        0|\n",
      "|u intellig docume...|        0|\n",
      "|senat want emerg ...|        1|\n",
      "|hedg fund manag m...|        0|\n",
      "|u propos expedit ...|       -1|\n",
      "|roger feder uniql...|        0|\n",
      "|bond trader ahead...|        0|\n",
      "|alcoa cut adjust ...|        0|\n",
      "|custom urg boycot...|       -1|\n",
      "|gap tighten race ...|        0|\n",
      "|presid trump endo...|        0|\n",
      "|white hous strugg...|        0|\n",
      "|laker guard hart ...|        0|\n",
      "|two northern whit...|        0|\n",
      "+--------------------+---------+\n",
      "only showing top 20 rows\n",
      "\n"
     ]
    }
   ],
   "source": [
    "df2 = spark.read.csv(\"tweet.csv\", header=True, inferSchema=True)\n",
    "df2.show()"
   ]
  },
  {
   "cell_type": "code",
   "execution_count": 22,
   "id": "ce14d367",
   "metadata": {},
   "outputs": [],
   "source": [
    "# Supprimer les enregistrements en double\n",
    "df2 = df2.dropDuplicates()\n",
    "df2 = df2.na.drop()"
   ]
  },
  {
   "cell_type": "code",
   "execution_count": 23,
   "id": "828a3369",
   "metadata": {},
   "outputs": [],
   "source": [
    "df2 = df2.filter(df2.sentiment != 0)"
   ]
  },
  {
   "cell_type": "code",
   "execution_count": 24,
   "id": "c5d07402",
   "metadata": {},
   "outputs": [],
   "source": [
    "from pyspark.sql.functions import when\n",
    "\n",
    "df2 = df2.withColumn(\"sentiment\", when(df2.sentiment == -1, 0).otherwise(df2.sentiment))\n"
   ]
  },
  {
   "cell_type": "code",
   "execution_count": 25,
   "id": "36b1d91d",
   "metadata": {},
   "outputs": [
    {
     "name": "stderr",
     "output_type": "stream",
     "text": [
      "[Stage 61:==========================================>             (57 + 3) / 75]\r"
     ]
    },
    {
     "name": "stdout",
     "output_type": "stream",
     "text": [
      "+---------+-----+\n",
      "|sentiment|count|\n",
      "+---------+-----+\n",
      "|        1| 6752|\n",
      "|        0| 2114|\n",
      "+---------+-----+\n",
      "\n"
     ]
    },
    {
     "name": "stderr",
     "output_type": "stream",
     "text": [
      "                                                                                \r"
     ]
    }
   ],
   "source": [
    "df2.groupBy(\"sentiment\").count().show()"
   ]
  },
  {
   "cell_type": "code",
   "execution_count": 26,
   "id": "f17768b2",
   "metadata": {},
   "outputs": [],
   "source": [
    "# Convertir les tweets en minuscules\n",
    "df2 = df2.withColumn(\"cleaned_tweets\", lower(col(\"cleaned_tweets\")))"
   ]
  },
  {
   "cell_type": "code",
   "execution_count": 27,
   "id": "c21aaad6",
   "metadata": {},
   "outputs": [],
   "source": [
    "# Supprimer la ponctuation des tweets\n",
    "def remove_punch(txt):\n",
    "    txt_punch_removed = [char for char in txt if char not in string.punctuation ]\n",
    "    return ''.join(txt_punch_removed)\n",
    "\n",
    "remove_punch_udf = udf(remove_punch, StringType())\n",
    "\n",
    "df2 = df2.withColumn(\"cleaned_tweets1\", remove_punch_udf(col(\"cleaned_tweets\")))\n"
   ]
  },
  {
   "cell_type": "code",
   "execution_count": 28,
   "id": "a53a00ba",
   "metadata": {},
   "outputs": [],
   "source": [
    "from pyspark.ml import Pipeline\n",
    "tokenizer0 = Tokenizer(inputCol=\"cleaned_tweets1\", outputCol=\"token_tweet2\")\n",
    "pipeline = Pipeline(stages=[tokenizer0])\n",
    "model = pipeline.fit(df2)\n",
    "df2 = model.transform(df2)\n"
   ]
  },
  {
   "cell_type": "code",
   "execution_count": 29,
   "id": "c18fe2ee",
   "metadata": {},
   "outputs": [],
   "source": [
    "ngram = NGram(n=2, inputCol=\"token_tweet2\", outputCol=\"ngram_tweet2\")\n",
    "pipeline = Pipeline(stages=[ngram] )\n",
    "model = pipeline.fit(df2)\n",
    "df2 = model.transform(df2)"
   ]
  },
  {
   "cell_type": "code",
   "execution_count": 30,
   "id": "0af636ea",
   "metadata": {},
   "outputs": [],
   "source": [
    "hashingTF = HashingTF(numFeatures=1000, inputCol=\"ngram_tweet2\", outputCol=\"hashing_tweet2\")\n",
    "pipeline = Pipeline(stages=[hashingTF])\n",
    "model = pipeline.fit(df2)\n",
    "df2 = model.transform(df2)"
   ]
  },
  {
   "cell_type": "code",
   "execution_count": 31,
   "id": "1227929a",
   "metadata": {},
   "outputs": [
    {
     "name": "stderr",
     "output_type": "stream",
     "text": [
      "                                                                                \r"
     ]
    }
   ],
   "source": [
    "\n",
    "\n",
    "idf2 = IDF(inputCol=\"hashing_tweet2\", outputCol=\"idf_tweet2\")\n",
    "pipeline = Pipeline(stages=[idf2])\n",
    "model = pipeline.fit(df2)\n",
    "df2 = model.transform(df2)"
   ]
  },
  {
   "cell_type": "code",
   "execution_count": 32,
   "id": "a2c8bdb0",
   "metadata": {},
   "outputs": [
    {
     "name": "stdout",
     "output_type": "stream",
     "text": [
      "+--------------------+---------+--------------------+--------------------+--------------------+--------------------+--------------------+\n",
      "|      cleaned_tweets|sentiment|     cleaned_tweets1|        token_tweet2|        ngram_tweet2|      hashing_tweet2|          idf_tweet2|\n",
      "+--------------------+---------+--------------------+--------------------+--------------------+--------------------+--------------------+\n",
      "|qorvo plan debt o...|        0|qorvo plan debt o...|[qorvo, plan, deb...|[qorvo plan, plan...|(1000,[36,240,316...|(1000,[36,240,316...|\n",
      "|expeditor intl wa...|        0|expeditor intl wa...|[expeditor, intl,...|[expeditor intl, ...|(1000,[5,238,295,...|(1000,[5,238,295,...|\n",
      "|bwa ten sea fli o...|        0|bwa ten sea fli o...|[bwa, ten, sea, f...|[bwa ten, ten sea...|(1000,[106,120,36...|(1000,[106,120,36...|\n",
      "|intern paper ip c...|        0|intern paper ip c...|[intern, paper, i...|[intern paper, pa...|(1000,[500,779,78...|(1000,[500,779,78...|\n",
      "|short sale volum ...|        1|short sale volum ...|[short, sale, vol...|[short sale, sale...|(1000,[52,171,337...|(1000,[52,171,337...|\n",
      "|haverford trust c...|        1|haverford trust c...|[haverford, trust...|[haverford trust,...|(1000,[111,215,25...|(1000,[111,215,25...|\n",
      "|intu max pain mat...|        0|intu max pain mat...|[intu, max, pain,...|[intu max, max pa...|(1000,[162,687,81...|(1000,[162,687,81...|\n",
      "|short sale vol sh...|        1|short sale vol sh...|[short, sale, vol...|[short sale, sale...|(1000,[38,52,152,...|(1000,[38,52,152,...|\n",
      "|fidel natl inform...|        0|fidel natl inform...|[fidel, natl, inf...|[fidel natl, natl...|(1000,[9,90,238,2...|(1000,[9,90,238,2...|\n",
      "|recent eog techni...|        1|recent eog techni...|[recent, eog, tec...|[recent eog, eog ...|(1000,[154,456,67...|(1000,[154,456,67...|\n",
      "|allegion plc all ...|        1|allegion plc all ...|[allegion, plc, a...|[allegion plc, pl...|(1000,[48,274,523...|(1000,[48,274,523...|\n",
      "|rt stock pull bac...|        1|rt stock pull bac...|[rt, stock, pull,...|[rt stock, stock ...|(1000,[134,164,28...|(1000,[134,164,28...|\n",
      "|zack analyst expe...|        1|zack analyst expe...|[zack, analyst, e...|[zack analyst, an...|(1000,[48,97,138,...|(1000,[48,97,138,...|\n",
      "|hartford financi ...|        1|hartford financi ...|[hartford, financ...|[hartford financi...|(1000,[48,104,154...|(1000,[48,104,154...|\n",
      "|trend revers aler...|        1|trend revers aler...|[trend, revers, a...|[trend revers, re...|(1000,[268,274,37...|(1000,[268,274,37...|\n",
      "|get access premiu...|        1|get access premiu...|[get, access, pre...|[get access, acce...|(1000,[104,133,29...|(1000,[104,133,29...|\n",
      "|ostk noth long vi...|        1|ostk noth long vi...|[ostk, noth, long...|[ostk noth, noth ...|(1000,[87,140,216...|(1000,[87,140,216...|\n",
      "|binanc million us...|        1|binanc million us...|[binanc, million,...|[binanc million, ...|(1000,[114,337,54...|(1000,[114,337,54...|\n",
      "|million dollar tr...|        1|million dollar tr...|[million, dollar,...|[million dollar, ...|(1000,[2,90,120,3...|(1000,[2,90,120,3...|\n",
      "|dee yep attempt l...|        1|dee yep attempt l...|[dee, yep, attemp...|[dee yep, yep att...|(1000,[104,145,18...|(1000,[104,145,18...|\n",
      "+--------------------+---------+--------------------+--------------------+--------------------+--------------------+--------------------+\n",
      "only showing top 20 rows\n",
      "\n"
     ]
    }
   ],
   "source": [
    "df2.show()"
   ]
  },
  {
   "cell_type": "code",
   "execution_count": null,
   "id": "423d6e1f",
   "metadata": {},
   "outputs": [],
   "source": [
    "\n"
   ]
  },
  {
   "cell_type": "code",
   "execution_count": null,
   "id": "bce2e856",
   "metadata": {},
   "outputs": [],
   "source": []
  },
  {
   "cell_type": "code",
   "execution_count": 33,
   "id": "df888fe7",
   "metadata": {},
   "outputs": [
    {
     "name": "stderr",
     "output_type": "stream",
     "text": [
      "23/04/05 22:29:10 WARN BLAS: Failed to load implementation from: com.github.fommil.netlib.NativeSystemBLAS\n",
      "23/04/05 22:29:10 WARN BLAS: Failed to load implementation from: com.github.fommil.netlib.NativeRefBLAS\n",
      "                                                                                \r"
     ]
    }
   ],
   "source": [
    "from pyspark.ml import Pipeline\n",
    "from pyspark.ml.classification import LogisticRegression \n",
    "from pyspark.ml.feature import VectorAssembler\n",
    "\n",
    "# Ajustement du modèle de régression logistique multinomiale\n",
    "lr = LogisticRegression(featuresCol=\"idf_tweet2\", labelCol=\"sentiment\", family='multinomial')\n",
    "pipeline = Pipeline(stages=[lr])\n",
    "model = pipeline.fit(df2)\n",
    "df2 = model.transform(df2)"
   ]
  },
  {
   "cell_type": "code",
   "execution_count": 34,
   "id": "41060d75",
   "metadata": {},
   "outputs": [
    {
     "name": "stdout",
     "output_type": "stream",
     "text": [
      "+--------------------+---------+--------------------+--------------------+--------------------+--------------------+--------------------+--------------------+--------------------+----------+\n",
      "|      cleaned_tweets|sentiment|     cleaned_tweets1|        token_tweet2|        ngram_tweet2|      hashing_tweet2|          idf_tweet2|       rawPrediction|         probability|prediction|\n",
      "+--------------------+---------+--------------------+--------------------+--------------------+--------------------+--------------------+--------------------+--------------------+----------+\n",
      "|qorvo plan debt o...|        0|qorvo plan debt o...|[qorvo, plan, deb...|[qorvo plan, plan...|(1000,[36,240,316...|(1000,[36,240,316...|[0.69689514949706...|[0.80119665344468...|       0.0|\n",
      "|expeditor intl wa...|        0|expeditor intl wa...|[expeditor, intl,...|[expeditor intl, ...|(1000,[5,238,295,...|(1000,[5,238,295,...|[-0.7905375331161...|[0.17064328030940...|       1.0|\n",
      "|bwa ten sea fli o...|        0|bwa ten sea fli o...|[bwa, ten, sea, f...|[bwa ten, ten sea...|(1000,[106,120,36...|(1000,[106,120,36...|[0.26531745399116...|[0.62963118199650...|       0.0|\n",
      "|intern paper ip c...|        0|intern paper ip c...|[intern, paper, i...|[intern paper, pa...|(1000,[500,779,78...|(1000,[500,779,78...|[1.02973778210811...|[0.88690157593111...|       0.0|\n",
      "|short sale volum ...|        1|short sale volum ...|[short, sale, vol...|[short sale, sale...|(1000,[52,171,337...|(1000,[52,171,337...|[-3.2634890343634...|[0.00146128306068...|       1.0|\n",
      "|haverford trust c...|        1|haverford trust c...|[haverford, trust...|[haverford trust,...|(1000,[111,215,25...|(1000,[111,215,25...|[-2.5083415356669...|[0.00658284877626...|       1.0|\n",
      "|intu max pain mat...|        0|intu max pain mat...|[intu, max, pain,...|[intu max, max pa...|(1000,[162,687,81...|(1000,[162,687,81...|[1.89108994247409...|[0.97773406720141...|       0.0|\n",
      "|short sale vol sh...|        1|short sale vol sh...|[short, sale, vol...|[short sale, sale...|(1000,[38,52,152,...|(1000,[38,52,152,...|[-1.0779112813655...|[0.10378837878869...|       1.0|\n",
      "|fidel natl inform...|        0|fidel natl inform...|[fidel, natl, inf...|[fidel natl, natl...|(1000,[9,90,238,2...|(1000,[9,90,238,2...|[0.11065525710688...|[0.55510290783354...|       0.0|\n",
      "|recent eog techni...|        1|recent eog techni...|[recent, eog, tec...|[recent eog, eog ...|(1000,[154,456,67...|(1000,[154,456,67...|[-2.4290453730231...|[0.00770546048941...|       1.0|\n",
      "|allegion plc all ...|        1|allegion plc all ...|[allegion, plc, a...|[allegion plc, pl...|(1000,[48,274,523...|(1000,[48,274,523...|[-2.3516458606133...|[0.00898394427310...|       1.0|\n",
      "|rt stock pull bac...|        1|rt stock pull bac...|[rt, stock, pull,...|[rt stock, stock ...|(1000,[134,164,28...|(1000,[134,164,28...|[-5.1443188608038...|[3.40162659161067...|       1.0|\n",
      "|zack analyst expe...|        1|zack analyst expe...|[zack, analyst, e...|[zack analyst, an...|(1000,[48,97,138,...|(1000,[48,97,138,...|[-0.9984113370287...|[0.11953692469914...|       1.0|\n",
      "|hartford financi ...|        1|hartford financi ...|[hartford, financ...|[hartford financi...|(1000,[48,104,154...|(1000,[48,104,154...|[-1.9718119170794...|[0.01900950162528...|       1.0|\n",
      "|trend revers aler...|        1|trend revers aler...|[trend, revers, a...|[trend revers, re...|(1000,[268,274,37...|(1000,[268,274,37...|[-1.5121391190435...|[0.04634103662385...|       1.0|\n",
      "|get access premiu...|        1|get access premiu...|[get, access, pre...|[get access, acce...|(1000,[104,133,29...|(1000,[104,133,29...|[-2.6470614736885...|[0.00499593148765...|       1.0|\n",
      "|ostk noth long vi...|        1|ostk noth long vi...|[ostk, noth, long...|[ostk noth, noth ...|(1000,[87,140,216...|(1000,[87,140,216...|[-5.5763703581018...|[1.43357369323445...|       1.0|\n",
      "|binanc million us...|        1|binanc million us...|[binanc, million,...|[binanc million, ...|(1000,[114,337,54...|(1000,[114,337,54...|[-4.1871661109597...|[2.30660665218768...|       1.0|\n",
      "|million dollar tr...|        1|million dollar tr...|[million, dollar,...|[million dollar, ...|(1000,[2,90,120,3...|(1000,[2,90,120,3...|[-2.1126021433923...|[0.01441161560432...|       1.0|\n",
      "|dee yep attempt l...|        1|dee yep attempt l...|[dee, yep, attemp...|[dee yep, yep att...|(1000,[104,145,18...|(1000,[104,145,18...|[-0.1890859911079...|[0.40656786827627...|       1.0|\n",
      "+--------------------+---------+--------------------+--------------------+--------------------+--------------------+--------------------+--------------------+--------------------+----------+\n",
      "only showing top 20 rows\n",
      "\n"
     ]
    }
   ],
   "source": [
    "df2.show()"
   ]
  },
  {
   "cell_type": "code",
   "execution_count": 35,
   "id": "a9506953",
   "metadata": {},
   "outputs": [
    {
     "name": "stdout",
     "output_type": "stream",
     "text": [
      "+--------------------+--------------------+----------+\n",
      "|       rawPrediction|         probability|prediction|\n",
      "+--------------------+--------------------+----------+\n",
      "|[0.69689514949706...|[0.80119665344468...|       0.0|\n",
      "|[-0.7905375331161...|[0.17064328030940...|       1.0|\n",
      "|[0.26531745399116...|[0.62963118199650...|       0.0|\n",
      "|[1.02973778210811...|[0.88690157593111...|       0.0|\n",
      "|[-3.2634890343634...|[0.00146128306068...|       1.0|\n",
      "|[-2.5083415356669...|[0.00658284877626...|       1.0|\n",
      "|[1.89108994247409...|[0.97773406720141...|       0.0|\n",
      "|[-1.0779112813655...|[0.10378837878869...|       1.0|\n",
      "|[0.11065525710688...|[0.55510290783354...|       0.0|\n",
      "|[-2.4290453730231...|[0.00770546048941...|       1.0|\n",
      "|[-2.3516458606133...|[0.00898394427310...|       1.0|\n",
      "|[-5.1443188608038...|[3.40162659161067...|       1.0|\n",
      "|[-0.9984113370287...|[0.11953692469914...|       1.0|\n",
      "|[-1.9718119170794...|[0.01900950162528...|       1.0|\n",
      "|[-1.5121391190435...|[0.04634103662385...|       1.0|\n",
      "|[-2.6470614736885...|[0.00499593148765...|       1.0|\n",
      "|[-5.5763703581018...|[1.43357369323445...|       1.0|\n",
      "|[-4.1871661109597...|[2.30660665218768...|       1.0|\n",
      "|[-2.1126021433923...|[0.01441161560432...|       1.0|\n",
      "|[-0.1890859911079...|[0.40656786827627...|       1.0|\n",
      "|[-1.2538692526586...|[0.07531745950210...|       1.0|\n",
      "|[-1.7176816791520...|[0.03120836595690...|       1.0|\n",
      "|[-0.1080876434500...|[0.44616566292237...|       1.0|\n",
      "|[-1.0404302543310...|[0.11097104353962...|       1.0|\n",
      "|[-1.4752954564287...|[0.04970859079728...|       1.0|\n",
      "|[-0.5967335693493...|[0.23263941434432...|       1.0|\n",
      "|[-1.0999713974372...|[0.09975562627640...|       1.0|\n",
      "|[-0.9303203535467...|[0.13462838980219...|       1.0|\n",
      "|[-1.9799108402186...|[0.01870978357198...|       1.0|\n",
      "|[-1.2876456112572...|[0.07074566428625...|       1.0|\n",
      "+--------------------+--------------------+----------+\n",
      "only showing top 30 rows\n",
      "\n"
     ]
    },
    {
     "name": "stderr",
     "output_type": "stream",
     "text": [
      "                                                                                \r"
     ]
    }
   ],
   "source": [
    "df2.select(\"rawPrediction\",\"probability\",\"prediction\").show(30)"
   ]
  },
  {
   "cell_type": "code",
   "execution_count": 36,
   "id": "4b6b63b8",
   "metadata": {},
   "outputs": [
    {
     "name": "stdout",
     "output_type": "stream",
     "text": [
      "+-----------------+\n",
      "|  cleaned_tweets1|\n",
      "+-----------------+\n",
      "|hello im not fine|\n",
      "+-----------------+\n",
      "\n"
     ]
    }
   ],
   "source": [
    "ma_chaine_de_caracteres = \"hello im not fine\"\n",
    "liste_de_tuples = [(ma_chaine_de_caracteres,),]\n",
    "df3 = spark.createDataFrame(liste_de_tuples, ['cleaned_tweets1'])\n",
    "df3.show()"
   ]
  },
  {
   "cell_type": "code",
   "execution_count": 37,
   "id": "0360c643",
   "metadata": {},
   "outputs": [],
   "source": [
    "df3_tokenized = tokenizer0.transform(df3)"
   ]
  },
  {
   "cell_type": "code",
   "execution_count": 38,
   "id": "20df1305",
   "metadata": {},
   "outputs": [
    {
     "name": "stdout",
     "output_type": "stream",
     "text": [
      "+-----------------+--------------------+\n",
      "|  cleaned_tweets1|        token_tweet2|\n",
      "+-----------------+--------------------+\n",
      "|hello im not fine|[hello, im, not, ...|\n",
      "+-----------------+--------------------+\n",
      "\n"
     ]
    }
   ],
   "source": [
    "df3_tokenized.show()"
   ]
  },
  {
   "cell_type": "code",
   "execution_count": 39,
   "id": "27c57fd3",
   "metadata": {},
   "outputs": [],
   "source": [
    "ngram = ngram.transform(df3_tokenized)"
   ]
  },
  {
   "cell_type": "code",
   "execution_count": 40,
   "id": "de9fdc72",
   "metadata": {},
   "outputs": [
    {
     "name": "stdout",
     "output_type": "stream",
     "text": [
      "+-----------------+--------------------+--------------------+\n",
      "|  cleaned_tweets1|        token_tweet2|        ngram_tweet2|\n",
      "+-----------------+--------------------+--------------------+\n",
      "|hello im not fine|[hello, im, not, ...|[hello im, im not...|\n",
      "+-----------------+--------------------+--------------------+\n",
      "\n"
     ]
    }
   ],
   "source": [
    "ngram.show()"
   ]
  },
  {
   "cell_type": "code",
   "execution_count": 41,
   "id": "3947df35",
   "metadata": {},
   "outputs": [],
   "source": [
    "\n",
    "hashingTF = hashingTF.transform(ngram)"
   ]
  },
  {
   "cell_type": "code",
   "execution_count": 42,
   "id": "59196b36",
   "metadata": {},
   "outputs": [
    {
     "name": "stdout",
     "output_type": "stream",
     "text": [
      "+-----------------+--------------------+--------------------+--------------------+\n",
      "|  cleaned_tweets1|        token_tweet2|        ngram_tweet2|      hashing_tweet2|\n",
      "+-----------------+--------------------+--------------------+--------------------+\n",
      "|hello im not fine|[hello, im, not, ...|[hello im, im not...|(1000,[47,447,684...|\n",
      "+-----------------+--------------------+--------------------+--------------------+\n",
      "\n"
     ]
    }
   ],
   "source": [
    "hashingTF.show()"
   ]
  },
  {
   "cell_type": "code",
   "execution_count": 44,
   "id": "ec80c58a",
   "metadata": {},
   "outputs": [],
   "source": [
    "idf2 = idf2.fit(hashingTF)\n",
    "idf2 = idf2.transform(hashingTF)"
   ]
  },
  {
   "cell_type": "code",
   "execution_count": 45,
   "id": "9be3350b",
   "metadata": {},
   "outputs": [
    {
     "name": "stdout",
     "output_type": "stream",
     "text": [
      "+-----------------+--------------------+--------------------+--------------------+--------------------+\n",
      "|  cleaned_tweets1|        token_tweet2|        ngram_tweet2|      hashing_tweet2|          idf_tweet2|\n",
      "+-----------------+--------------------+--------------------+--------------------+--------------------+\n",
      "|hello im not fine|[hello, im, not, ...|[hello im, im not...|(1000,[47,447,684...|(1000,[47,447,684...|\n",
      "+-----------------+--------------------+--------------------+--------------------+--------------------+\n",
      "\n"
     ]
    }
   ],
   "source": [
    "idf2.show()"
   ]
  },
  {
   "cell_type": "code",
   "execution_count": 46,
   "id": "6d3c10d2",
   "metadata": {},
   "outputs": [
    {
     "name": "stdout",
     "output_type": "stream",
     "text": [
      "+-----------------+--------------------+--------------------+--------------------+--------------------+--------------------+--------------------+----------+\n",
      "|  cleaned_tweets1|        token_tweet2|        ngram_tweet2|      hashing_tweet2|          idf_tweet2|       rawPrediction|         probability|prediction|\n",
      "+-----------------+--------------------+--------------------+--------------------+--------------------+--------------------+--------------------+----------+\n",
      "|hello im not fine|[hello, im, not, ...|[hello im, im not...|(1000,[47,447,684...|(1000,[47,447,684...|[-0.3384426819565...|[0.33695681123714...|       1.0|\n",
      "+-----------------+--------------------+--------------------+--------------------+--------------------+--------------------+--------------------+----------+\n",
      "\n"
     ]
    }
   ],
   "source": [
    "predictions = model.transform(idf2)\n",
    "predictions.show()"
   ]
  },
  {
   "cell_type": "code",
   "execution_count": 57,
   "id": "d00699c6",
   "metadata": {},
   "outputs": [
    {
     "ename": "SyntaxError",
     "evalue": "invalid non-printable character U+00A0 (577280083.py, line 2)",
     "output_type": "error",
     "traceback": [
      "\u001b[0;36m  Cell \u001b[0;32mIn [57], line 2\u001b[0;36m\u001b[0m\n\u001b[0;31m    liste_de_tuples = [(ma_chaine_de_caracteres)]\u001b[0m\n\u001b[0m    ^\u001b[0m\n\u001b[0;31mSyntaxError\u001b[0m\u001b[0;31m:\u001b[0m invalid non-printable character U+00A0\n"
     ]
    }
   ],
   "source": [
    "def process_text(ma_chaine_de_caracteres):\n",
    "        liste_de_tuples = [(ma_chaine_de_caracteres)] \n",
    "        df3 = spark.createDataFrame(liste_de_tuples, ['cleaned_tweets1'])\n",
    "        df3_tokenized = tokenizer0.transform(df3)\n",
    "        ngram = ngram.transform(df3_tokenized)\n",
    "        hashingTF = hashingTF.transform(ngram)\n",
    "        idf2 = idf2.fit(hashingTF)\n",
    "        idf2 = idf2.transform(hashingTF)\n",
    "        predictions = model.transform(idf2)\n",
    "        predictions.show()"
   ]
  },
  {
   "cell_type": "code",
   "execution_count": 52,
   "id": "e959b719",
   "metadata": {},
   "outputs": [],
   "source": []
  },
  {
   "cell_type": "code",
   "execution_count": null,
   "id": "a908f15a",
   "metadata": {},
   "outputs": [],
   "source": []
  },
  {
   "cell_type": "code",
   "execution_count": null,
   "id": "62cf68d1",
   "metadata": {},
   "outputs": [],
   "source": [
    "\n"
   ]
  },
  {
   "cell_type": "code",
   "execution_count": null,
   "id": "f857817b",
   "metadata": {},
   "outputs": [],
   "source": []
  },
  {
   "cell_type": "code",
   "execution_count": null,
   "id": "f05ac4d6",
   "metadata": {},
   "outputs": [],
   "source": []
  },
  {
   "cell_type": "code",
   "execution_count": null,
   "id": "57a54c91",
   "metadata": {},
   "outputs": [],
   "source": []
  },
  {
   "cell_type": "code",
   "execution_count": null,
   "id": "5d5aa84b",
   "metadata": {},
   "outputs": [],
   "source": []
  },
  {
   "cell_type": "code",
   "execution_count": null,
   "id": "ec853bf7",
   "metadata": {},
   "outputs": [],
   "source": []
  }
 ],
 "metadata": {
  "kernelspec": {
   "display_name": "Python 3 (ipykernel)",
   "language": "python",
   "name": "python3"
  },
  "language_info": {
   "codemirror_mode": {
    "name": "ipython",
    "version": 3
   },
   "file_extension": ".py",
   "mimetype": "text/x-python",
   "name": "python",
   "nbconvert_exporter": "python",
   "pygments_lexer": "ipython3",
   "version": "3.9.2"
  }
 },
 "nbformat": 4,
 "nbformat_minor": 5
}
